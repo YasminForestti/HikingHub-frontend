{
 "cells": [
  {
   "cell_type": "code",
   "execution_count": 9,
   "metadata": {},
   "outputs": [],
   "source": [
    "import pandas as pd\n",
    "import numpy as np\n",
    "import gpxpy\n",
    "import gpxpy.gpx\n",
    "import folium\n"
   ]
  },
  {
   "cell_type": "code",
   "execution_count": 4,
   "metadata": {},
   "outputs": [],
   "source": [
    "def process_gpx_to_df(file_name):\n",
    "    gpx = gpxpy.parse(open(file_name)) \n",
    "    \n",
    "    #(1)make DataFrame\n",
    "    track = gpx.tracks[0]\n",
    "    segment = track.segments[0]\n",
    "    # Load the data into a Pandas dataframe (by way of a list)\n",
    "    data = []\n",
    "    segment_length = segment.length_3d()\n",
    "    for point_idx, point in enumerate(segment.points):\n",
    "        data.append([point.longitude, point.latitude,point.elevation,\n",
    "        point.time, segment.get_speed(point_idx)])\n",
    "        columns = ['Longitude', 'Latitude', 'Altitude', 'Time', 'Speed']\n",
    "        gpx_df = pd.DataFrame(data, columns=columns)\n",
    "        \n",
    "    #2(make points tuple for line)\n",
    "    points = []\n",
    "    for track in gpx.tracks:\n",
    "        for segment in track.segments: \n",
    "            for point in segment.points:\n",
    "                points.append(tuple([point.latitude, point.longitude]))\n",
    "        \n",
    "    return gpx_df, points"
   ]
  },
  {
   "cell_type": "code",
   "execution_count": 11,
   "metadata": {},
   "outputs": [],
   "source": [
    "df, points = process_gpx_to_df('00c6622.gpx')\n"
   ]
  },
  {
   "cell_type": "code",
   "execution_count": 16,
   "metadata": {},
   "outputs": [
    {
     "data": {
      "text/html": [
       "<div>\n",
       "<style scoped>\n",
       "    .dataframe tbody tr th:only-of-type {\n",
       "        vertical-align: middle;\n",
       "    }\n",
       "\n",
       "    .dataframe tbody tr th {\n",
       "        vertical-align: top;\n",
       "    }\n",
       "\n",
       "    .dataframe thead th {\n",
       "        text-align: right;\n",
       "    }\n",
       "</style>\n",
       "<table border=\"1\" class=\"dataframe\">\n",
       "  <thead>\n",
       "    <tr style=\"text-align: right;\">\n",
       "      <th></th>\n",
       "      <th>Longitude</th>\n",
       "      <th>Latitude</th>\n",
       "      <th>Altitude</th>\n",
       "      <th>Time</th>\n",
       "      <th>Speed</th>\n",
       "    </tr>\n",
       "  </thead>\n",
       "  <tbody>\n",
       "    <tr>\n",
       "      <th>0</th>\n",
       "      <td>24.538536</td>\n",
       "      <td>60.156789</td>\n",
       "      <td>None</td>\n",
       "      <td>2022-01-06 10:00:00+00:00</td>\n",
       "      <td>2.583685</td>\n",
       "    </tr>\n",
       "    <tr>\n",
       "      <th>1</th>\n",
       "      <td>24.538660</td>\n",
       "      <td>60.156691</td>\n",
       "      <td>None</td>\n",
       "      <td>2022-01-06 10:00:05+00:00</td>\n",
       "      <td>3.310236</td>\n",
       "    </tr>\n",
       "    <tr>\n",
       "      <th>2</th>\n",
       "      <td>24.539017</td>\n",
       "      <td>60.156565</td>\n",
       "      <td>None</td>\n",
       "      <td>2022-01-06 10:00:11+00:00</td>\n",
       "      <td>4.166932</td>\n",
       "    </tr>\n",
       "    <tr>\n",
       "      <th>3</th>\n",
       "      <td>24.539390</td>\n",
       "      <td>60.156427</td>\n",
       "      <td>None</td>\n",
       "      <td>2022-01-06 10:00:17+00:00</td>\n",
       "      <td>3.797710</td>\n",
       "    </tr>\n",
       "    <tr>\n",
       "      <th>4</th>\n",
       "      <td>24.539679</td>\n",
       "      <td>60.156322</td>\n",
       "      <td>None</td>\n",
       "      <td>2022-01-06 10:00:23+00:00</td>\n",
       "      <td>3.374952</td>\n",
       "    </tr>\n",
       "    <tr>\n",
       "      <th>...</th>\n",
       "      <td>...</td>\n",
       "      <td>...</td>\n",
       "      <td>...</td>\n",
       "      <td>...</td>\n",
       "      <td>...</td>\n",
       "    </tr>\n",
       "    <tr>\n",
       "      <th>404</th>\n",
       "      <td>24.643033</td>\n",
       "      <td>60.144210</td>\n",
       "      <td>None</td>\n",
       "      <td>2022-01-06 10:28:47+00:00</td>\n",
       "      <td>4.008721</td>\n",
       "    </tr>\n",
       "    <tr>\n",
       "      <th>405</th>\n",
       "      <td>24.643170</td>\n",
       "      <td>60.144185</td>\n",
       "      <td>None</td>\n",
       "      <td>2022-01-06 10:28:49+00:00</td>\n",
       "      <td>4.005369</td>\n",
       "    </tr>\n",
       "    <tr>\n",
       "      <th>406</th>\n",
       "      <td>24.643359</td>\n",
       "      <td>60.144135</td>\n",
       "      <td>None</td>\n",
       "      <td>2022-01-06 10:28:52+00:00</td>\n",
       "      <td>3.994623</td>\n",
       "    </tr>\n",
       "    <tr>\n",
       "      <th>407</th>\n",
       "      <td>24.643485</td>\n",
       "      <td>60.144098</td>\n",
       "      <td>None</td>\n",
       "      <td>2022-01-06 10:28:54+00:00</td>\n",
       "      <td>4.115606</td>\n",
       "    </tr>\n",
       "    <tr>\n",
       "      <th>408</th>\n",
       "      <td>24.643682</td>\n",
       "      <td>60.144041</td>\n",
       "      <td>None</td>\n",
       "      <td>2022-01-06 10:28:57+00:00</td>\n",
       "      <td>4.209502</td>\n",
       "    </tr>\n",
       "  </tbody>\n",
       "</table>\n",
       "<p>409 rows × 5 columns</p>\n",
       "</div>"
      ],
      "text/plain": [
       "     Longitude   Latitude Altitude                      Time     Speed\n",
       "0    24.538536  60.156789     None 2022-01-06 10:00:00+00:00  2.583685\n",
       "1    24.538660  60.156691     None 2022-01-06 10:00:05+00:00  3.310236\n",
       "2    24.539017  60.156565     None 2022-01-06 10:00:11+00:00  4.166932\n",
       "3    24.539390  60.156427     None 2022-01-06 10:00:17+00:00  3.797710\n",
       "4    24.539679  60.156322     None 2022-01-06 10:00:23+00:00  3.374952\n",
       "..         ...        ...      ...                       ...       ...\n",
       "404  24.643033  60.144210     None 2022-01-06 10:28:47+00:00  4.008721\n",
       "405  24.643170  60.144185     None 2022-01-06 10:28:49+00:00  4.005369\n",
       "406  24.643359  60.144135     None 2022-01-06 10:28:52+00:00  3.994623\n",
       "407  24.643485  60.144098     None 2022-01-06 10:28:54+00:00  4.115606\n",
       "408  24.643682  60.144041     None 2022-01-06 10:28:57+00:00  4.209502\n",
       "\n",
       "[409 rows x 5 columns]"
      ]
     },
     "execution_count": 16,
     "metadata": {},
     "output_type": "execute_result"
    }
   ],
   "source": [
    "df\n"
   ]
  },
  {
   "cell_type": "code",
   "execution_count": 12,
   "metadata": {},
   "outputs": [
    {
     "data": {
      "text/plain": [
       "<folium.raster_layers.TileLayer at 0x7f51d89ee110>"
      ]
     },
     "execution_count": 12,
     "metadata": {},
     "output_type": "execute_result"
    }
   ],
   "source": [
    "\n",
    "mymap = folium.Map( location=[ df.Latitude.mean(), df.Longitude.mean() ], zoom_start=6, tiles=None)\n",
    "folium.TileLayer('openstreetmap', name='OpenStreet Map').add_to(mymap)"
   ]
  },
  {
   "cell_type": "code",
   "execution_count": 13,
   "metadata": {},
   "outputs": [
    {
     "data": {
      "text/plain": [
       "<folium.vector_layers.PolyLine at 0x7f51d89ee3e0>"
      ]
     },
     "execution_count": 13,
     "metadata": {},
     "output_type": "execute_result"
    }
   ],
   "source": [
    "folium.PolyLine(points, color='red', weight=4.5, opacity=.5).add_to(mymap)"
   ]
  },
  {
   "cell_type": "code",
   "execution_count": 15,
   "metadata": {},
   "outputs": [
    {
     "ename": "NameError",
     "evalue": "name 'camino_day' is not defined",
     "output_type": "error",
     "traceback": [
      "\u001b[0;31m---------------------------------------------------------------------------\u001b[0m",
      "\u001b[0;31mNameError\u001b[0m                                 Traceback (most recent call last)",
      "Cell \u001b[0;32mIn[15], line 3\u001b[0m\n\u001b[1;32m      1\u001b[0m html_camino_start \u001b[38;5;241m=\u001b[39m \u001b[38;5;124m\"\"\"\u001b[39m\n\u001b[1;32m      2\u001b[0m \u001b[38;5;124m Start of day \u001b[39m\u001b[38;5;132;01m{camino_day}\u001b[39;00m\n\u001b[0;32m----> 3\u001b[0m \u001b[38;5;124m \u001b[39m\u001b[38;5;124m\"\"\"\u001b[39m\u001b[38;5;241m.\u001b[39mformat(camino_day\u001b[38;5;241m=\u001b[39m\u001b[43mcamino_day\u001b[49m)\n\u001b[1;32m      4\u001b[0m popup \u001b[38;5;241m=\u001b[39m folium\u001b[38;5;241m.\u001b[39mPopup(html_camino_start, max_width\u001b[38;5;241m=\u001b[39m\u001b[38;5;241m400\u001b[39m)\n\u001b[1;32m      5\u001b[0m  \u001b[38;5;66;03m#nice green circle\u001b[39;00m\n",
      "\u001b[0;31mNameError\u001b[0m: name 'camino_day' is not defined"
     ]
    }
   ],
   "source": [
    "html_camino_start = \"\"\"\n",
    " Start of day {camino_day}\n",
    " \"\"\".format(camino_day=camino_day)\n",
    "popup = folium.Popup(html_camino_start, max_width=400)\n",
    " #nice green circle\n",
    "folium.vector_layers.CircleMarker(location=[lat_start, long_start], radius=9, color='white', weight=1, fill_color='green', fill_opacity=1, popup=html_camino_start).add_to(mymap) \n",
    " #OVERLAY triangle\n",
    "folium.RegularPolygonMarker(location=[lat_start, long_start], \n",
    " fill_color='white', fill_opacity=1, color='white', number_of_sides=3, \n",
    " radius=3, rotation=0, popup=html_camino_start).add_to(mymap)"
   ]
  }
 ],
 "metadata": {
  "kernelspec": {
   "display_name": "Python 3",
   "language": "python",
   "name": "python3"
  },
  "language_info": {
   "codemirror_mode": {
    "name": "ipython",
    "version": 3
   },
   "file_extension": ".py",
   "mimetype": "text/x-python",
   "name": "python",
   "nbconvert_exporter": "python",
   "pygments_lexer": "ipython3",
   "version": "3.10.13"
  }
 },
 "nbformat": 4,
 "nbformat_minor": 2
}
